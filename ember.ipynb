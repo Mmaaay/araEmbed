{
 "cells": [
  {
   "cell_type": "code",
   "execution_count": 1,
   "metadata": {},
   "outputs": [
    {
     "name": "stderr",
     "output_type": "stream",
     "text": [
      "c:\\Users\\mazen\\Desktop\\araEmbed\\.venv\\Lib\\site-packages\\pinecone\\data\\index.py:1: TqdmWarning: IProgress not found. Please update jupyter and ipywidgets. See https://ipywidgets.readthedocs.io/en/stable/user_install.html\n",
      "  from tqdm.autonotebook import tqdm\n"
     ]
    }
   ],
   "source": [
    "from pinecone import Pinecone\n",
    "\n",
    "pc = Pinecone(api_key=\"09783e77-bcef-4448-a649-966eb17480d4\")\n",
    "index = pc.Index(\"mulitlangone\")"
   ]
  },
  {
   "cell_type": "code",
   "execution_count": 38,
   "metadata": {},
   "outputs": [
    {
     "data": {
      "text/plain": [
       "{'upserted_count': 80}"
      ]
     },
     "execution_count": 38,
     "metadata": {},
     "output_type": "execute_result"
    }
   ],
   "source": [
    "import json\n",
    "from pinecone import Pinecone as pc\n",
    "\n",
    "# Load your data from dataChatbot2.json\n",
    "with open('dataChatbot2.json', 'r', encoding='utf-8') as f:\n",
    "    surah_data = json.load(f)\n",
    "    surah_data = surah_data[:20]  \n",
    "# Initialize Pinecone\n",
    "pc = pc(api_key=\"09783e77-bcef-4448-a649-966eb17480d4\")\n",
    "index = pc.Index(\"mulitlangone\")\n",
    "\n",
    "# Prepare the data into smaller chunks\n",
    "data = []\n",
    "for surah in surah_data:\n",
    "    surah_id = surah[\"id\"]\n",
    "    surah_name = surah[\"Surah\"]\n",
    "    \n",
    "    # Create chunks (e.g., Ayat, Naming Reason, Virtue, Meanings, etc.)\n",
    "    chunks = [\n",
    "        {\"id\": f\"{surah_id}_ayat\", \"text\": surah[\"Ayat\"]},  # آيات\n",
    "        {\"id\": f\"{surah_id}_naming\", \"text\": surah[\"Naming Reason\"]},  # سبب التسمية\n",
    "        {\"id\": f\"{surah_id}_virtue\", \"text\": \" \".join(surah[\"Virtue\"]), \"metadata\": {'نوع_المحتوى': 'الفضائل'}},  # الفضائل\n",
    "        {\"id\": f\"{surah_id}_meanings\", \"text\": \" \".join(surah[\"Meanings\"])}  # المعاني\n",
    "    ]\n",
    "    \n",
    "    # Add to data list\n",
    "    data.extend(chunks)\n",
    "\n",
    "# Generate embeddings for each chunk of text\n",
    "embeddings = pc.inference.embed(\n",
    "   model=\"multilingual-e5-large\",\n",
    "    inputs=[d['text'] for d in data],\n",
    "    parameters={\"input_type\": \"passage\", \"truncate\": \"END\"}\n",
    ")\n",
    "\n",
    "# Create the list of vectors with metadata for upsertion into Pinecone\n",
    "vectors = []\n",
    "for d, e in zip(data, embeddings):\n",
    "    vectors.append({\n",
    "        \"id\": d['id'],\n",
    "        \"values\": e['values'],\n",
    "        \"metadata\": {\n",
    "            'النص': d['text'],  # النص (Text)\n",
    "            'نوع_المحتوى': d['id'].split('_')[1]  # نوع المحتوى (Content Type): آيات, سبب التسمية, الفضائل, المعاني\n",
    "        }\n",
    "    })\n",
    "# Upsert vectors to Pinecone\n",
    "index.upsert(\n",
    "    vectors=vectors,\n",
    "    namespace=\"ns1\"\n",
    ")\n"
   ]
  },
  {
   "cell_type": "code",
   "execution_count": 37,
   "metadata": {},
   "outputs": [
    {
     "name": "stdout",
     "output_type": "stream",
     "text": [
      "ayat\n",
      "naming\n",
      "virtue\n",
      "meanings\n",
      "ayat\n",
      "naming\n",
      "virtue\n",
      "meanings\n",
      "ayat\n",
      "naming\n",
      "virtue\n",
      "meanings\n",
      "ayat\n",
      "naming\n",
      "virtue\n",
      "meanings\n",
      "ayat\n",
      "naming\n",
      "virtue\n",
      "meanings\n",
      "ayat\n",
      "naming\n",
      "virtue\n",
      "meanings\n",
      "ayat\n",
      "naming\n",
      "virtue\n",
      "meanings\n",
      "ayat\n",
      "naming\n",
      "virtue\n",
      "meanings\n",
      "ayat\n",
      "naming\n",
      "virtue\n",
      "meanings\n",
      "ayat\n",
      "naming\n",
      "virtue\n",
      "meanings\n",
      "ayat\n",
      "naming\n",
      "virtue\n",
      "meanings\n",
      "ayat\n",
      "naming\n",
      "virtue\n",
      "meanings\n",
      "ayat\n",
      "naming\n",
      "virtue\n",
      "meanings\n",
      "ayat\n",
      "naming\n",
      "virtue\n",
      "meanings\n",
      "ayat\n",
      "naming\n",
      "virtue\n",
      "meanings\n",
      "ayat\n",
      "naming\n",
      "virtue\n",
      "meanings\n",
      "ayat\n",
      "naming\n",
      "virtue\n",
      "meanings\n",
      "ayat\n",
      "naming\n",
      "virtue\n",
      "meanings\n",
      "ayat\n",
      "naming\n",
      "virtue\n",
      "meanings\n",
      "ayat\n",
      "naming\n",
      "virtue\n",
      "meanings\n"
     ]
    }
   ],
   "source": [
    "for d,e in zip(data,embeddings):\n",
    "    print(d['id'].split('_')[1])"
   ]
  },
  {
   "cell_type": "code",
   "execution_count": 46,
   "metadata": {},
   "outputs": [],
   "source": [
    "query = \"طب ايه افضال سوره الفاتحه\" \n",
    "embedding = pc.inference.embed(\n",
    "    model=\"multilingual-e5-large\",\n",
    "    inputs=[query],\n",
    "    parameters={\n",
    "        \"input_type\": \"passage\"\n",
    "    }\n",
    ")"
   ]
  },
  {
   "cell_type": "code",
   "execution_count": 49,
   "metadata": {},
   "outputs": [
    {
     "name": "stdout",
     "output_type": "stream",
     "text": [
      "{'matches': [{'id': '7_naming',\n",
      "              'metadata': {'النص': 'انْفِرَادُ السُّورَةِ بِذِكْرِ أَصْحَابِ '\n",
      "                                   'الْأَعْرَافِ',\n",
      "                           'نوع_المحتوى': 'naming'},\n",
      "              'score': 0.84539485,\n",
      "              'values': []},\n",
      "             {'id': '20_naming',\n",
      "              'metadata': {'النص': 'انْفِرَادُ السُّورَةِ بِمُفْتَتَحِ حَرْفَي '\n",
      "                                   '(طَه) دُونَ غَيرِهَا مِنْ سُوَرِ '\n",
      "                                   'القُرْآنِ؛ فَسُمِّيَتْ بِهِمَا',\n",
      "                           'نوع_المحتوى': 'naming'},\n",
      "              'score': 0.842599452,\n",
      "              'values': []},\n",
      "             {'id': '1_naming',\n",
      "              'metadata': {'النص': 'لأنَّهُ تُفتَتَحُ بِكِتَابَتِهَا '\n",
      "                                   'المَصِاحِفُ، وبقِرَاءَتِها الصَّلَوَاتُ',\n",
      "                           'نوع_المحتوى': 'naming'},\n",
      "              'score': 0.838806808,\n",
      "              'values': []}],\n",
      " 'namespace': 'ns1',\n",
      " 'usage': {'read_units': 6}}\n"
     ]
    }
   ],
   "source": [
    "results = index.query(\n",
    "    namespace=\"ns1\",\n",
    "    vector=embedding[0].values,\n",
    "    top_k=3,\n",
    "    include_values=False,\n",
    "    include_metadata=True\n",
    ")\n",
    "\n",
    "print(results)"
   ]
  }
 ],
 "metadata": {
  "kernelspec": {
   "display_name": ".venv",
   "language": "python",
   "name": "python3"
  },
  "language_info": {
   "codemirror_mode": {
    "name": "ipython",
    "version": 3
   },
   "file_extension": ".py",
   "mimetype": "text/x-python",
   "name": "python",
   "nbconvert_exporter": "python",
   "pygments_lexer": "ipython3",
   "version": "3.12.0"
  }
 },
 "nbformat": 4,
 "nbformat_minor": 2
}
